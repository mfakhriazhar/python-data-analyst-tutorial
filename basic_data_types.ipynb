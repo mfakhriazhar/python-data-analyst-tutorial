{
 "cells": [
  {
   "cell_type": "markdown",
   "id": "d0798aca-6cb2-4e7e-99d5-e8c31bc5dee6",
   "metadata": {},
   "source": [
    "# Data Types in Python"
   ]
  },
  {
   "cell_type": "code",
   "execution_count": 2,
   "id": "6783018a-11d1-4e8f-a0d3-620b60e954de",
   "metadata": {},
   "outputs": [
    {
     "data": {
      "text/plain": [
       "int"
      ]
     },
     "execution_count": 2,
     "metadata": {},
     "output_type": "execute_result"
    }
   ],
   "source": [
    "type(-12 + 10)"
   ]
  },
  {
   "cell_type": "code",
   "execution_count": 4,
   "id": "1dd83c46-007d-4e13-9142-9b5ba407e360",
   "metadata": {},
   "outputs": [
    {
     "data": {
      "text/plain": [
       "float"
      ]
     },
     "execution_count": 4,
     "metadata": {},
     "output_type": "execute_result"
    }
   ],
   "source": [
    "type(12 + 10.44)"
   ]
  },
  {
   "cell_type": "code",
   "execution_count": 6,
   "id": "167ab05f-8745-4a1d-802b-32ff0f09246d",
   "metadata": {},
   "outputs": [
    {
     "data": {
      "text/plain": [
       "complex"
      ]
     },
     "execution_count": 6,
     "metadata": {},
     "output_type": "execute_result"
    }
   ],
   "source": [
    "type(12 + 3j)"
   ]
  },
  {
   "cell_type": "code",
   "execution_count": 8,
   "id": "5e80189f-1c7d-4447-ae73-a706983b23e2",
   "metadata": {},
   "outputs": [
    {
     "data": {
      "text/plain": [
       "bool"
      ]
     },
     "execution_count": 8,
     "metadata": {},
     "output_type": "execute_result"
    }
   ],
   "source": [
    "#Boolean\n",
    "\n",
    "type(1 > 5)"
   ]
  },
  {
   "cell_type": "code",
   "execution_count": 10,
   "id": "588e4b71-cf47-4124-9870-f588d08c19ef",
   "metadata": {},
   "outputs": [
    {
     "data": {
      "text/plain": [
       "True"
      ]
     },
     "execution_count": 10,
     "metadata": {},
     "output_type": "execute_result"
    }
   ],
   "source": [
    "1 == 1"
   ]
  },
  {
   "cell_type": "code",
   "execution_count": 12,
   "id": "0e8af355-fec0-49e8-82cc-00fcdc20a094",
   "metadata": {},
   "outputs": [
    {
     "data": {
      "text/plain": [
       "'Red Velvet'"
      ]
     },
     "execution_count": 12,
     "metadata": {},
     "output_type": "execute_result"
    }
   ],
   "source": [
    "# Strings\n",
    "\n",
    "'Red Velvet'"
   ]
  },
  {
   "cell_type": "code",
   "execution_count": 14,
   "id": "9e197c2b-5f8e-47a0-af5c-22cfb203f26c",
   "metadata": {},
   "outputs": [],
   "source": [
    "multiline = \"\"\"\n",
    "The ice cream vanquished\n",
    "my longing for sweets,\n",
    "upon this diet I look away,\n",
    "it no longer exists on this day.\n",
    "\n",
    "\"\"\""
   ]
  },
  {
   "cell_type": "code",
   "execution_count": 16,
   "id": "63270792-3305-474e-8563-b7e5f9cbd42d",
   "metadata": {},
   "outputs": [
    {
     "name": "stdout",
     "output_type": "stream",
     "text": [
      "\n",
      "The ice cream vanquished\n",
      "my longing for sweets,\n",
      "upon this diet I look away,\n",
      "it no longer exists on this day.\n",
      "\n",
      "\n"
     ]
    }
   ],
   "source": [
    "\n",
    "print(multiline)"
   ]
  },
  {
   "cell_type": "code",
   "execution_count": 18,
   "id": "db9a66c6-894e-4181-afd7-1d123c9c7976",
   "metadata": {},
   "outputs": [
    {
     "data": {
      "text/plain": [
       "str"
      ]
     },
     "execution_count": 18,
     "metadata": {},
     "output_type": "execute_result"
    }
   ],
   "source": [
    "type(multiline)"
   ]
  },
  {
   "cell_type": "code",
   "execution_count": 20,
   "id": "40a6799c-0ee8-4d56-931a-da0bffe8c15e",
   "metadata": {},
   "outputs": [],
   "source": [
    "a = 'Hello World!'"
   ]
  },
  {
   "cell_type": "code",
   "execution_count": 22,
   "id": "441946e8-ff6e-4a7a-9aa1-78c3595ba2de",
   "metadata": {},
   "outputs": [
    {
     "name": "stdout",
     "output_type": "stream",
     "text": [
      "llo\n"
     ]
    }
   ],
   "source": [
    "print(a[2:5])"
   ]
  },
  {
   "cell_type": "code",
   "execution_count": 24,
   "id": "683ed62f-f00a-4e2f-a98e-db6535d6224e",
   "metadata": {},
   "outputs": [
    {
     "data": {
      "text/plain": [
       "'Hello World!Hello World!'"
      ]
     },
     "execution_count": 24,
     "metadata": {},
     "output_type": "execute_result"
    }
   ],
   "source": [
    "a*2"
   ]
  },
  {
   "cell_type": "code",
   "execution_count": 26,
   "id": "efc59ca8-0564-4355-8388-412584570df1",
   "metadata": {},
   "outputs": [
    {
     "data": {
      "text/plain": [
       "'Hello World!Hello World!'"
      ]
     },
     "execution_count": 26,
     "metadata": {},
     "output_type": "execute_result"
    }
   ],
   "source": [
    "a + a"
   ]
  },
  {
   "cell_type": "code",
   "execution_count": 28,
   "id": "aadb4525-68a9-4d76-a9a4-235d72561341",
   "metadata": {},
   "outputs": [
    {
     "data": {
      "text/plain": [
       "[1, 2, 3]"
      ]
     },
     "execution_count": 28,
     "metadata": {},
     "output_type": "execute_result"
    }
   ],
   "source": [
    "# list\n",
    "\n",
    "[1,2,3]"
   ]
  },
  {
   "cell_type": "code",
   "execution_count": 30,
   "id": "25514eac-2323-4be5-a137-36271ceb17ba",
   "metadata": {},
   "outputs": [
    {
     "data": {
      "text/plain": [
       "['Matcha', 'Strawberry', 'Chocolate']"
      ]
     },
     "execution_count": 30,
     "metadata": {},
     "output_type": "execute_result"
    }
   ],
   "source": [
    "['Matcha','Strawberry','Chocolate']"
   ]
  },
  {
   "cell_type": "code",
   "execution_count": 32,
   "id": "6a4d13be-f887-4866-a09a-c3d0a0314e63",
   "metadata": {},
   "outputs": [
    {
     "data": {
      "text/plain": [
       "['Matcha', 3, ['Scoops', 'Spoon'], True]"
      ]
     },
     "execution_count": 32,
     "metadata": {},
     "output_type": "execute_result"
    }
   ],
   "source": [
    "['Matcha', 3, ['Scoops','Spoon'],True]"
   ]
  },
  {
   "cell_type": "code",
   "execution_count": 34,
   "id": "427d981f-6df4-4c11-9761-76f3e6e917bd",
   "metadata": {},
   "outputs": [
    {
     "data": {
      "text/plain": [
       "['Matcha', 'Strawberry', 'Chocolate', 'Yoghurt']"
      ]
     },
     "execution_count": 34,
     "metadata": {},
     "output_type": "execute_result"
    }
   ],
   "source": [
    "ice_cream = ['Matcha','Strawberry','Chocolate']\n",
    "\n",
    "ice_cream.append('Yoghurt')\n",
    "\n",
    "ice_cream"
   ]
  },
  {
   "cell_type": "code",
   "execution_count": 36,
   "id": "b3731633-647f-4633-8191-7542237edcd7",
   "metadata": {},
   "outputs": [
    {
     "data": {
      "text/plain": [
       "['Vanilla', 'Strawberry', 'Chocolate', 'Yoghurt']"
      ]
     },
     "execution_count": 36,
     "metadata": {},
     "output_type": "execute_result"
    }
   ],
   "source": [
    "ice_cream[0] = 'Vanilla'\n",
    "\n",
    "ice_cream"
   ]
  },
  {
   "cell_type": "code",
   "execution_count": 38,
   "id": "45db0156-a283-4e62-91d3-70e820073aef",
   "metadata": {},
   "outputs": [],
   "source": [
    "nest_list = ['Matcha', 3, ['Scoops','Spoon'],True]"
   ]
  },
  {
   "cell_type": "code",
   "execution_count": 40,
   "id": "0e78bd30-7dd2-499c-bf42-911f799752ff",
   "metadata": {},
   "outputs": [
    {
     "data": {
      "text/plain": [
       "'Spoon'"
      ]
     },
     "execution_count": 40,
     "metadata": {},
     "output_type": "execute_result"
    }
   ],
   "source": [
    "nest_list[2][1]"
   ]
  },
  {
   "cell_type": "code",
   "execution_count": 42,
   "id": "3fe233d0-63f4-42f1-9c53-50d118902eaf",
   "metadata": {},
   "outputs": [],
   "source": [
    "#tuple\n",
    "\n",
    "tuple_scoops = (1,2,3,2,1)"
   ]
  },
  {
   "cell_type": "code",
   "execution_count": 44,
   "id": "c14f5d8c-7bc9-4166-aa57-4dcd0c3a2036",
   "metadata": {},
   "outputs": [
    {
     "data": {
      "text/plain": [
       "tuple"
      ]
     },
     "execution_count": 44,
     "metadata": {},
     "output_type": "execute_result"
    }
   ],
   "source": [
    "type(tuple_scoops)"
   ]
  },
  {
   "cell_type": "code",
   "execution_count": 46,
   "id": "3c0f5f11-e5a7-4c6c-8933-c4f755a647e2",
   "metadata": {},
   "outputs": [
    {
     "data": {
      "text/plain": [
       "1"
      ]
     },
     "execution_count": 46,
     "metadata": {},
     "output_type": "execute_result"
    }
   ],
   "source": [
    "tuple_scoops[0]"
   ]
  },
  {
   "cell_type": "code",
   "execution_count": 48,
   "id": "ffbe1266-b678-4fca-aa74-eda8594e2297",
   "metadata": {},
   "outputs": [
    {
     "ename": "AttributeError",
     "evalue": "'tuple' object has no attribute 'append'",
     "output_type": "error",
     "traceback": [
      "\u001b[1;31m---------------------------------------------------------------------------\u001b[0m",
      "\u001b[1;31mAttributeError\u001b[0m                            Traceback (most recent call last)",
      "Cell \u001b[1;32mIn[48], line 1\u001b[0m\n\u001b[1;32m----> 1\u001b[0m tuple_scoops\u001b[38;5;241m.\u001b[39mappend(\u001b[38;5;241m3\u001b[39m)\n",
      "\u001b[1;31mAttributeError\u001b[0m: 'tuple' object has no attribute 'append'"
     ]
    }
   ],
   "source": [
    "tuple_scoops.append(3)"
   ]
  },
  {
   "cell_type": "code",
   "execution_count": 50,
   "id": "b5ae7659-fb0f-4359-a219-d6aaa2845b7f",
   "metadata": {},
   "outputs": [],
   "source": [
    "# sets\n",
    "\n",
    "\n",
    "daily_pints = {1,2,3}"
   ]
  },
  {
   "cell_type": "code",
   "execution_count": 52,
   "id": "6d7f0504-497b-4bf6-b7b9-8eb0c318853c",
   "metadata": {},
   "outputs": [
    {
     "data": {
      "text/plain": [
       "set"
      ]
     },
     "execution_count": 52,
     "metadata": {},
     "output_type": "execute_result"
    }
   ],
   "source": [
    "type(daily_pints)"
   ]
  },
  {
   "cell_type": "code",
   "execution_count": 54,
   "id": "bb5c42fe-18b9-4751-a67f-a1afafd59c0e",
   "metadata": {},
   "outputs": [
    {
     "name": "stdout",
     "output_type": "stream",
     "text": [
      "{1, 2, 3}\n"
     ]
    }
   ],
   "source": [
    "print(daily_pints)"
   ]
  },
  {
   "cell_type": "code",
   "execution_count": 56,
   "id": "edd9f4ba-109a-4681-a61a-8680c56d177e",
   "metadata": {},
   "outputs": [
    {
     "name": "stdout",
     "output_type": "stream",
     "text": [
      "{1, 2, 3, 4, 5, 6, 31}\n"
     ]
    }
   ],
   "source": [
    "daily_pints_log = {1,2,31,2,3,4,1,2,5,6,3,2}\n",
    "\n",
    "print(daily_pints_log)"
   ]
  },
  {
   "cell_type": "code",
   "execution_count": 58,
   "id": "e145fd17-6cbb-4ce4-9624-561b03f0cdfb",
   "metadata": {},
   "outputs": [],
   "source": [
    "gf_daily_pints_log = {1,3,5,7,3,24,5,7,3,2,0}"
   ]
  },
  {
   "cell_type": "code",
   "execution_count": 62,
   "id": "9f9a92e2-8e6c-41d2-a5ea-420ecf05ed9c",
   "metadata": {},
   "outputs": [
    {
     "name": "stdout",
     "output_type": "stream",
     "text": [
      "{0, 1, 2, 3, 4, 5, 6, 7, 24, 31}\n"
     ]
    }
   ],
   "source": [
    "print(daily_pints_log | gf_daily_pints_log)"
   ]
  },
  {
   "cell_type": "code",
   "execution_count": 64,
   "id": "c680a2e6-4f31-4305-946e-f7b394b0c1b4",
   "metadata": {},
   "outputs": [
    {
     "name": "stdout",
     "output_type": "stream",
     "text": [
      "{1, 2, 3, 5}\n"
     ]
    }
   ],
   "source": [
    "print(daily_pints_log & gf_daily_pints_log)"
   ]
  },
  {
   "cell_type": "code",
   "execution_count": 66,
   "id": "f8f3acda-7267-4dd1-8396-c5dbe6a18890",
   "metadata": {},
   "outputs": [
    {
     "name": "stdout",
     "output_type": "stream",
     "text": [
      "{4, 6, 31}\n"
     ]
    }
   ],
   "source": [
    "print(daily_pints_log - gf_daily_pints_log)"
   ]
  },
  {
   "cell_type": "code",
   "execution_count": 68,
   "id": "ac449a6b-f3b4-410a-825f-ae01280f0640",
   "metadata": {},
   "outputs": [
    {
     "name": "stdout",
     "output_type": "stream",
     "text": [
      "{0, 4, 6, 7, 24, 31}\n"
     ]
    }
   ],
   "source": [
    "print(daily_pints_log ^ gf_daily_pints_log)"
   ]
  },
  {
   "cell_type": "code",
   "execution_count": 70,
   "id": "6cf53fc8-fa48-48b4-99e9-9e30e5a021bc",
   "metadata": {},
   "outputs": [],
   "source": [
    "# dictionaries\n",
    "# Key/Value Pair\n",
    "\n",
    "dict_cream = {'name': 'Fakhri Azhar', 'weekly intake': 3, 'favorite ice creams': ['Matcha','Chocolate']}"
   ]
  },
  {
   "cell_type": "code",
   "execution_count": 72,
   "id": "028985d2-1bc2-4fdd-bfb9-f8c1214e5a5e",
   "metadata": {},
   "outputs": [
    {
     "data": {
      "text/plain": [
       "dict"
      ]
     },
     "execution_count": 72,
     "metadata": {},
     "output_type": "execute_result"
    }
   ],
   "source": [
    "type(dict_cream)"
   ]
  },
  {
   "cell_type": "code",
   "execution_count": 74,
   "id": "ffe059da-443a-4285-b796-6fbb450302d3",
   "metadata": {},
   "outputs": [
    {
     "name": "stdout",
     "output_type": "stream",
     "text": [
      "{'name': 'Fakhri Azhar', 'weekly intake': 3, 'favorite ice creams': ['Matcha', 'Chocolate']}\n"
     ]
    }
   ],
   "source": [
    "print(dict_cream)"
   ]
  },
  {
   "cell_type": "code",
   "execution_count": 76,
   "id": "80944aef-77c0-440d-8fad-98c264a7a9de",
   "metadata": {},
   "outputs": [
    {
     "data": {
      "text/plain": [
       "dict_values(['Fakhri Azhar', 3, ['Matcha', 'Chocolate']])"
      ]
     },
     "execution_count": 76,
     "metadata": {},
     "output_type": "execute_result"
    }
   ],
   "source": [
    "dict_cream.values()"
   ]
  },
  {
   "cell_type": "code",
   "execution_count": 78,
   "id": "2697e1c9-25db-485a-8f8b-b25c7a9ce8f0",
   "metadata": {},
   "outputs": [
    {
     "data": {
      "text/plain": [
       "dict_keys(['name', 'weekly intake', 'favorite ice creams'])"
      ]
     },
     "execution_count": 78,
     "metadata": {},
     "output_type": "execute_result"
    }
   ],
   "source": [
    "dict_cream.keys()"
   ]
  },
  {
   "cell_type": "code",
   "execution_count": 80,
   "id": "a19f0bc9-0b0f-4989-b3a5-2f2cb2b5a0e3",
   "metadata": {},
   "outputs": [
    {
     "data": {
      "text/plain": [
       "dict_items([('name', 'Fakhri Azhar'), ('weekly intake', 3), ('favorite ice creams', ['Matcha', 'Chocolate'])])"
      ]
     },
     "execution_count": 80,
     "metadata": {},
     "output_type": "execute_result"
    }
   ],
   "source": [
    "dict_cream.items()"
   ]
  },
  {
   "cell_type": "code",
   "execution_count": 82,
   "id": "e0ae88e8-0348-4e60-9d0b-a05a46bb5c7e",
   "metadata": {},
   "outputs": [
    {
     "data": {
      "text/plain": [
       "'Fakhri Azhar'"
      ]
     },
     "execution_count": 82,
     "metadata": {},
     "output_type": "execute_result"
    }
   ],
   "source": [
    "dict_cream['name']"
   ]
  },
  {
   "cell_type": "code",
   "execution_count": 84,
   "id": "742fe6b8-bd49-4ff1-84e0-38c832a41a9a",
   "metadata": {},
   "outputs": [
    {
     "name": "stdout",
     "output_type": "stream",
     "text": [
      "{'name': 'Ifa Irwanda', 'weekly intake': 3, 'favorite ice creams': ['Matcha', 'Chocolate']}\n"
     ]
    }
   ],
   "source": [
    "dict_cream['name'] = 'Ifa Irwanda'\n",
    "\n",
    "print(dict_cream)"
   ]
  },
  {
   "cell_type": "code",
   "execution_count": 86,
   "id": "d93df0d1-7df6-4568-b605-963be9083f0d",
   "metadata": {},
   "outputs": [
    {
     "name": "stdout",
     "output_type": "stream",
     "text": [
      "{'name': 'Ifa Irwanda', 'weekly intake': 1, 'favorite ice creams': ['Matcha', 'Chocolate'], 'weight': 70}\n"
     ]
    }
   ],
   "source": [
    "dict_cream.update({'name': 'Ifa Irwanda', 'weekly intake': 1, 'weight': 70})\n",
    "\n",
    "print(dict_cream)"
   ]
  },
  {
   "cell_type": "code",
   "execution_count": 88,
   "id": "37f60f8b-f740-4363-9b37-82c78c4c9bd3",
   "metadata": {},
   "outputs": [
    {
     "name": "stdout",
     "output_type": "stream",
     "text": [
      "{'name': 'Ifa Irwanda', 'weekly intake': 1, 'favorite ice creams': ['Matcha', 'Chocolate']}\n"
     ]
    }
   ],
   "source": [
    "del dict_cream['weight']\n",
    "\n",
    "print(dict_cream)"
   ]
  },
  {
   "cell_type": "code",
   "execution_count": null,
   "id": "20b1922a-c86f-4ad9-b091-c05b732d4736",
   "metadata": {},
   "outputs": [],
   "source": []
  }
 ],
 "metadata": {
  "kernelspec": {
   "display_name": "Python [conda env:base] *",
   "language": "python",
   "name": "conda-base-py"
  },
  "language_info": {
   "codemirror_mode": {
    "name": "ipython",
    "version": 3
   },
   "file_extension": ".py",
   "mimetype": "text/x-python",
   "name": "python",
   "nbconvert_exporter": "python",
   "pygments_lexer": "ipython3",
   "version": "3.12.3"
  }
 },
 "nbformat": 4,
 "nbformat_minor": 5
}
