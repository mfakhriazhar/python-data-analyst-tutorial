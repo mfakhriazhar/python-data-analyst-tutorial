{
 "cells": [
  {
   "cell_type": "markdown",
   "id": "6fc5b9a2-8290-4523-b471-9e6289acb254",
   "metadata": {},
   "source": [
    "# For Loops in Python"
   ]
  },
  {
   "cell_type": "code",
   "execution_count": 2,
   "id": "65fa300b-42d7-4c98-8c0c-c9a52be4df51",
   "metadata": {},
   "outputs": [],
   "source": [
    "integers = [1,2,3,4,5]"
   ]
  },
  {
   "cell_type": "code",
   "execution_count": 4,
   "id": "04c3b5d4-3895-4cc8-8c64-1ae54e9de70a",
   "metadata": {},
   "outputs": [
    {
     "name": "stdout",
     "output_type": "stream",
     "text": [
      "1\n",
      "2\n",
      "3\n",
      "4\n",
      "5\n"
     ]
    }
   ],
   "source": [
    "for number in integers:\n",
    "    print(number)"
   ]
  },
  {
   "cell_type": "code",
   "execution_count": 6,
   "id": "ad28878b-a328-422b-ad70-60619b671390",
   "metadata": {},
   "outputs": [
    {
     "name": "stdout",
     "output_type": "stream",
     "text": [
      "yeah!\n",
      "yeah!\n",
      "yeah!\n",
      "yeah!\n",
      "yeah!\n"
     ]
    }
   ],
   "source": [
    "for number in integers:\n",
    "    print('yeah!')"
   ]
  },
  {
   "cell_type": "code",
   "execution_count": 8,
   "id": "1f8ffc98-ebed-4223-a2fa-1f7b0d54d6ba",
   "metadata": {},
   "outputs": [
    {
     "name": "stdout",
     "output_type": "stream",
     "text": [
      "2\n",
      "4\n",
      "6\n",
      "8\n",
      "10\n"
     ]
    }
   ],
   "source": [
    "for Jelly in integers:\n",
    "    print(Jelly + Jelly)"
   ]
  },
  {
   "cell_type": "code",
   "execution_count": 10,
   "id": "c8615df2-937a-4264-a217-0f44377b071e",
   "metadata": {},
   "outputs": [],
   "source": [
    "ice_cream_dict = {'name': 'Fakhri Azhar', 'weekly intake': 5, 'favorite ice creams': ['Matcha', 'Yoghurt']}"
   ]
  },
  {
   "cell_type": "code",
   "execution_count": 12,
   "id": "be945d49-869b-4931-bfb7-2706bb16b36d",
   "metadata": {},
   "outputs": [
    {
     "name": "stdout",
     "output_type": "stream",
     "text": [
      "Fakhri Azhar\n",
      "5\n",
      "['Matcha', 'Yoghurt']\n"
     ]
    }
   ],
   "source": [
    "for cream in ice_cream_dict.values():\n",
    "    print(cream)"
   ]
  },
  {
   "cell_type": "code",
   "execution_count": 14,
   "id": "fe0cdbe8-c244-4f05-946a-022bc97daeb4",
   "metadata": {},
   "outputs": [
    {
     "name": "stdout",
     "output_type": "stream",
     "text": [
      "name = Fakhri Azhar\n",
      "weekly intake = 5\n",
      "favorite ice creams = ['Matcha', 'Yoghurt']\n"
     ]
    }
   ],
   "source": [
    "for key, value in ice_cream_dict.items():\n",
    "    print(key, '=',value)"
   ]
  },
  {
   "cell_type": "code",
   "execution_count": 16,
   "id": "116e31c5-4613-4888-a3f7-4d1c3cce6040",
   "metadata": {},
   "outputs": [],
   "source": [
    "# NESTED LOOPS\n",
    "\n",
    "flavors = ['Vanilla', 'Chocolate', 'Yoghurt']\n",
    "toppings = ['Hot Fudge', 'Oreos', 'Marshmallows']"
   ]
  },
  {
   "cell_type": "code",
   "execution_count": 18,
   "id": "64a6800a-3c84-470c-8ecd-8c0edd161000",
   "metadata": {},
   "outputs": [
    {
     "name": "stdout",
     "output_type": "stream",
     "text": [
      "Vanilla topped with Hot Fudge\n",
      "Vanilla topped with Oreos\n",
      "Vanilla topped with Marshmallows\n",
      "Chocolate topped with Hot Fudge\n",
      "Chocolate topped with Oreos\n",
      "Chocolate topped with Marshmallows\n",
      "Yoghurt topped with Hot Fudge\n",
      "Yoghurt topped with Oreos\n",
      "Yoghurt topped with Marshmallows\n"
     ]
    }
   ],
   "source": [
    "for one in flavors:\n",
    "    for two in toppings:\n",
    "        print(one, 'topped with', two)"
   ]
  },
  {
   "cell_type": "code",
   "execution_count": null,
   "id": "8def6296-605e-4bb2-b7c5-62c6af33295e",
   "metadata": {},
   "outputs": [],
   "source": []
  }
 ],
 "metadata": {
  "kernelspec": {
   "display_name": "Python [conda env:base] *",
   "language": "python",
   "name": "conda-base-py"
  },
  "language_info": {
   "codemirror_mode": {
    "name": "ipython",
    "version": 3
   },
   "file_extension": ".py",
   "mimetype": "text/x-python",
   "name": "python",
   "nbconvert_exporter": "python",
   "pygments_lexer": "ipython3",
   "version": "3.12.3"
  }
 },
 "nbformat": 4,
 "nbformat_minor": 5
}
