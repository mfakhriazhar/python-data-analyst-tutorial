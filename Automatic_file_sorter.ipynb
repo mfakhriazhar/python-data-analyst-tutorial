{
 "cells": [
  {
   "cell_type": "markdown",
   "id": "bb51de1e-e310-4d05-94a0-a4236351b6d8",
   "metadata": {},
   "source": [
    "# Automatic File Sorter using Python"
   ]
  },
  {
   "cell_type": "code",
   "execution_count": 2,
   "id": "07eb0fe0-8851-4181-b739-09b1d1040b1b",
   "metadata": {},
   "outputs": [],
   "source": [
    "import os, shutil"
   ]
  },
  {
   "cell_type": "code",
   "execution_count": 4,
   "id": "86ff0a0c-ef7c-4ca1-a24b-6a93d99f4756",
   "metadata": {},
   "outputs": [],
   "source": [
    "path = r\"C:/Users/USER/OneDrive/Gambar/Random Pict/\""
   ]
  },
  {
   "cell_type": "code",
   "execution_count": 6,
   "id": "c31e9d7c-6b70-405e-af5b-380abdfa86c1",
   "metadata": {},
   "outputs": [],
   "source": [
    "file_name = os.listdir(path)"
   ]
  },
  {
   "cell_type": "code",
   "execution_count": 14,
   "id": "f80ff2ee-9aaa-4011-9cec-d25dd569acd9",
   "metadata": {},
   "outputs": [],
   "source": [
    "folder_names = ['png files', 'jpg files', 'bmp files', 'jpeg files']\n",
    "\n",
    "for loop in range(0,4):\n",
    "    if not os.path.exists(path + folder_names[loop]):\n",
    "        os.makedirs(path + folder_names[loop])\n",
    "\n",
    "for file in file_name:\n",
    "    if \".png\" in file and not os.path.exists(path + \"png files/\" + file):\n",
    "        shutil.move(path + file, path + \"png files/\" + file)\n",
    "    elif \".jpg\" in file and not os.path.exists(path + \"jpg files/\" + file):\n",
    "        shutil.move(path + file, path + \"jpg files/\" + file)\n",
    "    elif \".bmp\" in file and not os.path.exists(path + \"bmp files/\" + file):\n",
    "        shutil.move(path + file, path + \"bmp files/\" + file)\n",
    "    elif \".jpeg\" in file and not os.path.exists(path + \"jpeg files/\" + file):\n",
    "        shutil.move(path + file, path + \"jpeg files/\" + file)"
   ]
  },
  {
   "cell_type": "code",
   "execution_count": null,
   "id": "4756cb9a-1a1b-4538-9988-5174aa790928",
   "metadata": {},
   "outputs": [],
   "source": []
  }
 ],
 "metadata": {
  "kernelspec": {
   "display_name": "Python [conda env:base] *",
   "language": "python",
   "name": "conda-base-py"
  },
  "language_info": {
   "codemirror_mode": {
    "name": "ipython",
    "version": 3
   },
   "file_extension": ".py",
   "mimetype": "text/x-python",
   "name": "python",
   "nbconvert_exporter": "python",
   "pygments_lexer": "ipython3",
   "version": "3.12.3"
  }
 },
 "nbformat": 4,
 "nbformat_minor": 5
}
