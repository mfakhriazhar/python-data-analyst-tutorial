{
 "cells": [
  {
   "cell_type": "markdown",
   "id": "8976c303-64f2-485c-b888-5a2d35f9fdbe",
   "metadata": {},
   "source": [
    "# Building a BMI Calculator using Python"
   ]
  },
  {
   "cell_type": "markdown",
   "id": "3c7f28e9-48a9-4774-b887-93b1b9add8d5",
   "metadata": {},
   "source": [
    "## Reference : \n",
    "https://mercer-health.com/services/weight-management-center/bmi-calculator#:~:text=Body%20Mass%20Index%2C%20or%20BMI,inches%20x%20height%20in%20inches"
   ]
  },
  {
   "cell_type": "markdown",
   "id": "8908237c-4170-4676-9fd0-1d8a6ad148e5",
   "metadata": {},
   "source": [
    "## BMI Calculation :\n",
    "BMI = (weight in pounds x 703) / (height in inches x height in inches)"
   ]
  },
  {
   "cell_type": "markdown",
   "id": "f207f019-f2e1-4f83-8653-04f7bf646190",
   "metadata": {},
   "source": [
    "## BMI Classification and Health Risk\n",
    "Under 18.5\t; Underweight ;\tMinimal  \n",
    "18.5 - 24.9\tNormal Weight ; Minimal  \n",
    "25 - 29.9 ; Overweight ; Increased  \n",
    "30 - 34.9 ; Obese ; High  \n",
    "35 - 39.9 ; Severely Obese ; Very High  \n",
    "40 and over ; Morbidly Obese ; Extremely High  "
   ]
  },
  {
   "cell_type": "code",
   "execution_count": 17,
   "id": "b6f9ff81-4362-4e7f-aaba-99a03aeacffa",
   "metadata": {},
   "outputs": [
    {
     "name": "stdin",
     "output_type": "stream",
     "text": [
      "Enter name:  Fakhri\n",
      "Enter weight(Pounds):  139\n",
      "Enter height(Inches):  67\n"
     ]
    },
    {
     "name": "stdout",
     "output_type": "stream",
     "text": [
      "Your BMI:  21.768099799509912\n",
      "Fakhri, you are Normal Weight with minimal health risk.\n"
     ]
    }
   ],
   "source": [
    "name = input(\"Enter name: \")\n",
    "\n",
    "weight = int(input(\"Enter weight(Pounds): \"))\n",
    "\n",
    "height = int(input(\"Enter height(Inches): \"))\n",
    "\n",
    "BMI = (weight * 703) / (height * height)\n",
    "\n",
    "print('Your BMI: ',BMI)\n",
    "\n",
    "if BMI>0:\n",
    "    if(BMI<18.5):\n",
    "        print(name +\", you are Underwight with minimal health risk.\")\n",
    "    elif (BMI<=24.9):\n",
    "        print(name +\", you are Normal Weight with minimal health risk.\")\n",
    "    elif (BMI<29.9):\n",
    "        print(name +\", you are Overweight with increased health risk.\")\n",
    "    elif (BMI<34.9):\n",
    "        print(name +\", you are obese with high health risk.\")\n",
    "    elif (BMI<39.9):\n",
    "        print(name +\", you are severely obese with very high health risk.\")\n",
    "    else:\n",
    "        print(name +\", you are morbidly obese with extremely high health risk.\")\n",
    "else:\n",
    "    print(\"Enter valid input\")"
   ]
  },
  {
   "cell_type": "code",
   "execution_count": null,
   "id": "1565dc95-7651-43e1-8fc2-6bce30125deb",
   "metadata": {},
   "outputs": [],
   "source": []
  }
 ],
 "metadata": {
  "kernelspec": {
   "display_name": "Python [conda env:timeseries_libraries]",
   "language": "python",
   "name": "conda-env-timeseries_libraries-py"
  },
  "language_info": {
   "codemirror_mode": {
    "name": "ipython",
    "version": 3
   },
   "file_extension": ".py",
   "mimetype": "text/x-python",
   "name": "python",
   "nbconvert_exporter": "python",
   "pygments_lexer": "ipython3",
   "version": "3.12.9"
  }
 },
 "nbformat": 4,
 "nbformat_minor": 5
}
